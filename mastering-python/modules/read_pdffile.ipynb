{
 "cells": [
  {
   "cell_type": "code",
   "execution_count": 1,
   "metadata": {},
   "outputs": [],
   "source": [
    "location = \"./English_Connection.pdf\""
   ]
  },
  {
   "cell_type": "code",
   "execution_count": 7,
   "metadata": {},
   "outputs": [
    {
     "name": "stdout",
     "output_type": "stream",
     "text": [
      "Collecting PyPDF2\n",
      "  Using cached pypdf2-3.0.1-py3-none-any.whl (232 kB)\n",
      "Requirement already satisfied: typing_extensions>=3.10.0.0 in /Users/rajsingh/work/repos-new/myenv/lib/python3.9/site-packages (from PyPDF2) (4.12.2)\n",
      "Installing collected packages: PyPDF2\n",
      "Successfully installed PyPDF2-3.0.1\n",
      "\u001b[33mWARNING: You are using pip version 22.0.4; however, version 24.2 is available.\n",
      "You should consider upgrading via the '/Users/rajsingh/work/repos-new/myenv/bin/python3 -m pip install --upgrade pip' command.\u001b[0m\u001b[33m\n",
      "\u001b[0m"
     ]
    }
   ],
   "source": [
    "!pip install PyPDF2\n",
    "#!pip install PyMuPDF\n"
   ]
  },
  {
   "cell_type": "code",
   "execution_count": 13,
   "metadata": {},
   "outputs": [
    {
     "name": "stdout",
     "output_type": "stream",
     "text": [
      "235\n",
      "English 2.0  :  Start 20 April 2024     \n",
      "           \n",
      "Bulb of garlic       \n",
      "2 cloves of garlic       \n",
      "       \n",
      "I m peeling off the potatoes      \n",
      "I m helping my mom peel off the potatoes    \n",
      "She grinds teeth in her sleep      \n",
      "She is in deep sleep.      \n",
      "Enough honey ...go and sit there.     \n",
      "Batter of dosa -----  Dosa ka ghol     \n",
      "Wow I love this !.....Let's open it up.     \n",
      "       \n",
      "We will have to cut it open.      \n",
      " It's just a piece of cake for me     \n",
      "\"We've been working hard all day. Let's call it a day and relax.\"  \n",
      "       \n",
      "       \n",
      "It's getting late, and I'm exhausted. I think it's time to call it a night and get some sleep.  \n",
      "       \n",
      "       \n",
      "       \n",
      "Noded -- haan me sar hilana      \n",
      "\"He nodded his head to signal his understanding    \n",
      "       \n",
      "Shake head --- na me sar hilana     \n",
      "She shook her head to indicate disagreement.    \n",
      "       \n",
      "       \n",
      "Aroma -- meal khushboo      \n",
      "Fragrance -- scent, flowers      \n",
      "Stinky, stinking -- bad smell      \n",
      "The aroma of freshly baked bread filled the kitchen, tempting everyone inside.  \n",
      "\"Stinky\"        \n",
      " a strong, unpleasant smell      \n",
      "       \n",
      "It's often used to refer to things like garbage, rotten food, dirty socks, or anything else that emits a foul odor.  \n"
     ]
    }
   ],
   "source": [
    "import PyPDF2 as pdf\n",
    "with open(location, \"rb\") as file:\n",
    "    reader = pdf.PdfReader(file)\n",
    "    num_pages = len(reader.pages)\n",
    "    print(num_pages)\n",
    "    \n",
    "    for page_num in range(num_pages):\n",
    "        page = reader.pages[page_num]\n",
    "        text = page.extract_text()\n",
    "        print(text)\n",
    "        break"
   ]
  },
  {
   "cell_type": "code",
   "execution_count": 17,
   "metadata": {},
   "outputs": [
    {
     "name": "stdout",
     "output_type": "stream",
     "text": [
      "31\n",
      "\n",
      "\n",
      "\n",
      "\n",
      "\n",
      "\n",
      "\n",
      "\n",
      "\n",
      "\n",
      "\n",
      "\n",
      "\n",
      "\n",
      "\n",
      "\n",
      "\n",
      "\n",
      "\n",
      "\n",
      "\n",
      "\n",
      "\n",
      "\n",
      "\n",
      "\n",
      "\n",
      "\n",
      "\n",
      "\n",
      "\n"
     ]
    }
   ],
   "source": [
    "location2 = \"./chapter_50_60.pdf\"\n",
    "with open(location2, \"rb\") as file:\n",
    "    reader = pdf.PdfReader(file)\n",
    "    num_pages = len(reader.pages)\n",
    "    print(num_pages)\n",
    "    \n",
    "    for page_num in range(num_pages):\n",
    "        page = reader.pages[page_num]\n",
    "        text = page.extract_text()\n",
    "        print(text)"
   ]
  },
  {
   "cell_type": "code",
   "execution_count": 18,
   "metadata": {},
   "outputs": [
    {
     "name": "stdout",
     "output_type": "stream",
     "text": [
      "Page 1:\n",
      "\n",
      "\n"
     ]
    }
   ],
   "source": [
    "import fitz  # PyMuPDF\n",
    "\n",
    "# Open the PDF file\n",
    "with fitz.open(location2) as doc:\n",
    "    # Iterate through the pages\n",
    "    for page_number in range(len(doc)):\n",
    "        page = doc.load_page(page_number)\n",
    "        text = page.get_text()  # Extract text from the page\n",
    "        print(f\"Page {page_number + 1}:\\n{text}\\n\")\n",
    "        break\n"
   ]
  }
 ],
 "metadata": {
  "kernelspec": {
   "display_name": "upgrad_env",
   "language": "python",
   "name": "python3"
  },
  "language_info": {
   "codemirror_mode": {
    "name": "ipython",
    "version": 3
   },
   "file_extension": ".py",
   "mimetype": "text/x-python",
   "name": "python",
   "nbconvert_exporter": "python",
   "pygments_lexer": "ipython3",
   "version": "3.9.6"
  }
 },
 "nbformat": 4,
 "nbformat_minor": 2
}
