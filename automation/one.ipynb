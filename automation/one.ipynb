{
 "cells": [
  {
   "cell_type": "code",
   "execution_count": 1,
   "metadata": {},
   "outputs": [],
   "source": [
    "import os"
   ]
  },
  {
   "cell_type": "code",
   "execution_count": 2,
   "metadata": {},
   "outputs": [
    {
     "data": {
      "text/plain": [
       "'\\n Input as folder location \\n List all the files and folder \\n IF File Skip\\n IF Folder => Rename that folder with new name\\n\\n'"
      ]
     },
     "execution_count": 2,
     "metadata": {},
     "output_type": "execute_result"
    }
   ],
   "source": [
    "# Folder location \n",
    "'''\n",
    " Input as folder location \n",
    " List all the files and folder \n",
    " IF File Skip\n",
    " IF Folder => Rename that folder with new name\n",
    "\n",
    "'''\n"
   ]
  },
  {
   "cell_type": "code",
   "execution_count": 12,
   "metadata": {},
   "outputs": [
    {
     "name": "stdout",
     "output_type": "stream",
     "text": [
      "course2_advance_sql\n",
      "course4:interview_question\n",
      "next.md\n",
      "course1_comprehensive_sql\n",
      "README.md\n",
      "automate.ipynb\n",
      "course3_postgresql-tutorial\n"
     ]
    }
   ],
   "source": [
    "#\n",
    "url = \"/Users/rajsingh/work/repos-new/mastering-sql/mastering-sql\"\n",
    "\n",
    "files = os.listdir(url)\n",
    "for file in files:\n",
    "    print(file)\n"
   ]
  },
  {
   "cell_type": "code",
   "execution_count": 18,
   "metadata": {},
   "outputs": [],
   "source": [
    "def rename_folder(url, folder, filenames):\n",
    "    print(\"-- rename -- \",url, folder, filenames)\n",
    "    for name in folder:\n",
    "        if \":\" in name:\n",
    "            old_path=os.path.join(url,name)\n",
    "            new_path=os.path.join(url,name.replace(\":\",\"_\"))\n",
    "            print(old_path)\n",
    "            print(new_path)\n",
    "            try:\n",
    "                os.rename(old_path,new_path)\n",
    "            except FileNotFoundError:\n",
    "                print(\"filenotfound\")\n",
    "            except FileExistsError:\n",
    "                print(\"File Already Exists\")\n",
    "            except PermissionError:\n",
    "                print(\"Permission Denied Error\")\n",
    "            except Exception as e:\n",
    "                print(f\"An Error occured: {e}\")\n"
   ]
  },
  {
   "cell_type": "code",
   "execution_count": 21,
   "metadata": {},
   "outputs": [
    {
     "name": "stdout",
     "output_type": "stream",
     "text": [
      "-- rename --  /Users/rajsingh/work/repos-new/mastering-sql/mastering-sql ['course2_advance_sql', 'course1_comprehensive_sql', 'course4_interview_question', 'course3_postgresql-tutorial'] ['next.md', 'README.md', 'automate.ipynb']\n",
      "-- rename --  /Users/rajsingh/work/repos-new/mastering-sql/mastering-sql/course2_advance_sql ['section1_Introduction', 'section6:Hierarchial_Queries', 'section5_group_by_extension', 'section2:Data Cleansing And Manipuliation:DONE', 'section7:correlated_subqueries', 'section3:Regular_expression:DONE', 'section8:Materialized_views', 'section4_Analytics_Window'] []\n",
      "/Users/rajsingh/work/repos-new/mastering-sql/mastering-sql/course2_advance_sql/section6:Hierarchial_Queries\n",
      "/Users/rajsingh/work/repos-new/mastering-sql/mastering-sql/course2_advance_sql/section6_Hierarchial_Queries\n",
      "/Users/rajsingh/work/repos-new/mastering-sql/mastering-sql/course2_advance_sql/section2:Data Cleansing And Manipuliation:DONE\n",
      "/Users/rajsingh/work/repos-new/mastering-sql/mastering-sql/course2_advance_sql/section2_Data Cleansing And Manipuliation_DONE\n",
      "/Users/rajsingh/work/repos-new/mastering-sql/mastering-sql/course2_advance_sql/section7:correlated_subqueries\n",
      "/Users/rajsingh/work/repos-new/mastering-sql/mastering-sql/course2_advance_sql/section7_correlated_subqueries\n",
      "/Users/rajsingh/work/repos-new/mastering-sql/mastering-sql/course2_advance_sql/section3:Regular_expression:DONE\n",
      "/Users/rajsingh/work/repos-new/mastering-sql/mastering-sql/course2_advance_sql/section3_Regular_expression_DONE\n",
      "/Users/rajsingh/work/repos-new/mastering-sql/mastering-sql/course2_advance_sql/section8:Materialized_views\n",
      "/Users/rajsingh/work/repos-new/mastering-sql/mastering-sql/course2_advance_sql/section8_Materialized_views\n",
      "-- rename --  /Users/rajsingh/work/repos-new/mastering-sql/mastering-sql/course2_advance_sql/section1_Introduction [] ['setup.ipynb', 'Section1_Data+Model+Slides.pdf']\n",
      "-- rename --  /Users/rajsingh/work/repos-new/mastering-sql/mastering-sql/course2_advance_sql/section5_group_by_extension [] ['section5.ipynb', 'section5.pdf']\n",
      "-- rename --  /Users/rajsingh/work/repos-new/mastering-sql/mastering-sql/course2_advance_sql/section4_Analytics_Window [] ['4.1 docs.ipynb', 'section4.pdf']\n",
      "-- rename --  /Users/rajsingh/work/repos-new/mastering-sql/mastering-sql/course1_comprehensive_sql ['section3:SQL_commands:DONE', 'section11:relational_data_model', 'section7:aggregation', 'section10:query_order_of_exection', 'section4:Qualifying_columns', 'section5:Opeartors_and_where_clause', 'section9: set operators', 'section8:joins', 'section1_introduction', 'section13:Question_bank', 'section6:date_string_mathematical_functions', 'section2:Data_types:DONE', 'section12:views'] ['sections.md']\n",
      "/Users/rajsingh/work/repos-new/mastering-sql/mastering-sql/course1_comprehensive_sql/section3:SQL_commands:DONE\n",
      "/Users/rajsingh/work/repos-new/mastering-sql/mastering-sql/course1_comprehensive_sql/section3_SQL_commands_DONE\n",
      "/Users/rajsingh/work/repos-new/mastering-sql/mastering-sql/course1_comprehensive_sql/section11:relational_data_model\n",
      "/Users/rajsingh/work/repos-new/mastering-sql/mastering-sql/course1_comprehensive_sql/section11_relational_data_model\n",
      "/Users/rajsingh/work/repos-new/mastering-sql/mastering-sql/course1_comprehensive_sql/section7:aggregation\n",
      "/Users/rajsingh/work/repos-new/mastering-sql/mastering-sql/course1_comprehensive_sql/section7_aggregation\n",
      "/Users/rajsingh/work/repos-new/mastering-sql/mastering-sql/course1_comprehensive_sql/section10:query_order_of_exection\n",
      "/Users/rajsingh/work/repos-new/mastering-sql/mastering-sql/course1_comprehensive_sql/section10_query_order_of_exection\n",
      "/Users/rajsingh/work/repos-new/mastering-sql/mastering-sql/course1_comprehensive_sql/section4:Qualifying_columns\n",
      "/Users/rajsingh/work/repos-new/mastering-sql/mastering-sql/course1_comprehensive_sql/section4_Qualifying_columns\n",
      "/Users/rajsingh/work/repos-new/mastering-sql/mastering-sql/course1_comprehensive_sql/section5:Opeartors_and_where_clause\n",
      "/Users/rajsingh/work/repos-new/mastering-sql/mastering-sql/course1_comprehensive_sql/section5_Opeartors_and_where_clause\n",
      "/Users/rajsingh/work/repos-new/mastering-sql/mastering-sql/course1_comprehensive_sql/section9: set operators\n",
      "/Users/rajsingh/work/repos-new/mastering-sql/mastering-sql/course1_comprehensive_sql/section9_ set operators\n",
      "/Users/rajsingh/work/repos-new/mastering-sql/mastering-sql/course1_comprehensive_sql/section8:joins\n",
      "/Users/rajsingh/work/repos-new/mastering-sql/mastering-sql/course1_comprehensive_sql/section8_joins\n",
      "/Users/rajsingh/work/repos-new/mastering-sql/mastering-sql/course1_comprehensive_sql/section13:Question_bank\n",
      "/Users/rajsingh/work/repos-new/mastering-sql/mastering-sql/course1_comprehensive_sql/section13_Question_bank\n",
      "/Users/rajsingh/work/repos-new/mastering-sql/mastering-sql/course1_comprehensive_sql/section6:date_string_mathematical_functions\n",
      "/Users/rajsingh/work/repos-new/mastering-sql/mastering-sql/course1_comprehensive_sql/section6_date_string_mathematical_functions\n",
      "/Users/rajsingh/work/repos-new/mastering-sql/mastering-sql/course1_comprehensive_sql/section2:Data_types:DONE\n",
      "/Users/rajsingh/work/repos-new/mastering-sql/mastering-sql/course1_comprehensive_sql/section2_Data_types_DONE\n",
      "/Users/rajsingh/work/repos-new/mastering-sql/mastering-sql/course1_comprehensive_sql/section12:views\n",
      "/Users/rajsingh/work/repos-new/mastering-sql/mastering-sql/course1_comprehensive_sql/section12_views\n",
      "-- rename --  /Users/rajsingh/work/repos-new/mastering-sql/mastering-sql/course1_comprehensive_sql/section1_introduction [] ['section1_introduction.ipynb']\n",
      "-- rename --  /Users/rajsingh/work/repos-new/mastering-sql/mastering-sql/course4_interview_question [] ['macafee.sql']\n",
      "-- rename --  /Users/rajsingh/work/repos-new/mastering-sql/mastering-sql/course3_postgresql-tutorial ['solutions', 'data', 'material'] ['Mastering+SQL+using+Postgresql.pdf', 'course.ipynb', 'README.md', 'Sections.sql']\n",
      "-- rename --  /Users/rajsingh/work/repos-new/mastering-sql/mastering-sql/course3_postgresql-tutorial/solutions [] ['02_dml_or_crud_operations.ipynb', '06_pre_defined_functions.ipynb', '01_getting_started.ipynb', '07_analytic_functions.ipynb', '03_basic_sql_queries.ipynb', '05_partitioned_tables.ipynb', '04_managing_database_objects.ipynb']\n",
      "-- rename --  /Users/rajsingh/work/repos-new/mastering-sql/mastering-sql/course3_postgresql-tutorial/data ['nyse_all', 'lca', 'cards', 'nyse', 'electionresults', 'hr_db', 'retail_db_json', 'hr', 'retail_db', 'sms_db'] ['README.md']\n",
      "-- rename --  /Users/rajsingh/work/repos-new/mastering-sql/mastering-sql/course3_postgresql-tutorial/data/nyse_all ['nyse_data', 'nyse_stocks'] []\n",
      "-- rename --  /Users/rajsingh/work/repos-new/mastering-sql/mastering-sql/course3_postgresql-tutorial/data/nyse_all/nyse_data [] ['NYSE_2007.txt.gz', 'NYSE_2015.txt.gz', 'NYSE_2017.txt.gz', 'NYSE_2009.txt.gz', 'NYSE_2005.txt.gz', 'NYSE_2001.txt.gz', 'NYSE_2013.txt.gz', 'NYSE_1999.txt.gz', 'NYSE_1997.txt.gz', 'NYSE_2011.txt.gz', 'NYSE_2003.txt.gz', 'NYSE_2006.txt.gz', 'NYSE_2014.txt.gz', 'NYSE_2008.txt.gz', 'NYSE_2016.txt.gz', 'NYSE_2004.txt.gz', 'NYSE_1998.txt.gz', 'NYSE_2000.txt.gz', 'NYSE_2012.txt.gz', 'NYSE_2010.txt.gz', 'NYSE_2002.txt.gz']\n",
      "-- rename --  /Users/rajsingh/work/repos-new/mastering-sql/mastering-sql/course3_postgresql-tutorial/data/nyse_all/nyse_stocks [] ['companylist_noheader.csv']\n",
      "-- rename --  /Users/rajsingh/work/repos-new/mastering-sql/mastering-sql/course3_postgresql-tutorial/data/lca [] ['LCA_FY2011.csv.gz', 'LCA_FY2013.csv.gz', 'LCA_FY2010.csv.gz', 'LCA_FY2012.csv.gz']\n",
      "-- rename --  /Users/rajsingh/work/repos-new/mastering-sql/mastering-sql/course3_postgresql-tutorial/data/cards ['smalldecks', 'zippeddecks'] ['largedeck.txt.gz', 'deckofcards.txt']\n",
      "-- rename --  /Users/rajsingh/work/repos-new/mastering-sql/mastering-sql/course3_postgresql-tutorial/data/cards/smalldecks [] ['deckofcards.txt', 'deckofcards.tar.gz']\n",
      "-- rename --  /Users/rajsingh/work/repos-new/mastering-sql/mastering-sql/course3_postgresql-tutorial/data/cards/zippeddecks [] ['zippeddeck.txt.gz', 'zippeddeck.tar']\n",
      "-- rename --  /Users/rajsingh/work/repos-new/mastering-sql/mastering-sql/course3_postgresql-tutorial/data/nyse [] ['companylist_noheader.csv', 'nyse_data.tar.gz']\n",
      "-- rename --  /Users/rajsingh/work/repos-new/mastering-sql/mastering-sql/course3_postgresql-tutorial/data/electionresults [] ['ls2014.tsv']\n",
      "-- rename --  /Users/rajsingh/work/repos-new/mastering-sql/mastering-sql/course3_postgresql-tutorial/data/hr_db ['regions', 'emp_details_view', 'departments', 'job_history', 'locations', 'jobs', 'countries', 'employees'] ['drop_tables_pg.sql', 'create_tables_mysql.sql', 'create_tables_pg.sql', 'load_data.sql', 'load_data_pg.sql']\n",
      "-- rename --  /Users/rajsingh/work/repos-new/mastering-sql/mastering-sql/course3_postgresql-tutorial/data/hr_db/regions [] ['part-m-00001', 'part-m-00000', 'part-m-00002', 'part-m-00003']\n",
      "-- rename --  /Users/rajsingh/work/repos-new/mastering-sql/mastering-sql/course3_postgresql-tutorial/data/hr_db/emp_details_view [] ['part-m-00000']\n",
      "-- rename --  /Users/rajsingh/work/repos-new/mastering-sql/mastering-sql/course3_postgresql-tutorial/data/hr_db/departments [] ['part-m-00001', 'part-m-00000', 'part-m-00002', 'part-m-00003']\n",
      "-- rename --  /Users/rajsingh/work/repos-new/mastering-sql/mastering-sql/course3_postgresql-tutorial/data/hr_db/job_history [] ['part-m-00000', 'part-m-00003']\n",
      "-- rename --  /Users/rajsingh/work/repos-new/mastering-sql/mastering-sql/course3_postgresql-tutorial/data/hr_db/locations [] ['part-m-00001', 'part-m-00000', 'part-m-00002', 'part-m-00003']\n",
      "-- rename --  /Users/rajsingh/work/repos-new/mastering-sql/mastering-sql/course3_postgresql-tutorial/data/hr_db/jobs [] ['part-m-00001', 'part-m-00002', 'part-m-00003', 'part-m-00004']\n",
      "-- rename --  /Users/rajsingh/work/repos-new/mastering-sql/mastering-sql/course3_postgresql-tutorial/data/hr_db/countries [] ['part-m-00001', 'part-m-00000', 'part-m-00002', 'part-m-00003']\n",
      "-- rename --  /Users/rajsingh/work/repos-new/mastering-sql/mastering-sql/course3_postgresql-tutorial/data/hr_db/employees [] ['part-00000.csv']\n",
      "-- rename --  /Users/rajsingh/work/repos-new/mastering-sql/mastering-sql/course3_postgresql-tutorial/data/retail_db_json ['customers', 'products', 'departments', 'order_items', 'orders', 'categories'] []\n",
      "-- rename --  /Users/rajsingh/work/repos-new/mastering-sql/mastering-sql/course3_postgresql-tutorial/data/retail_db_json/customers [] ['part-r-00000-70554560-527b-44f6-9e80-4e2031af5994']\n",
      "-- rename --  /Users/rajsingh/work/repos-new/mastering-sql/mastering-sql/course3_postgresql-tutorial/data/retail_db_json/products [] ['part-r-00000-158b7037-4a23-47e6-8cb3-8cbf878beff7']\n",
      "-- rename --  /Users/rajsingh/work/repos-new/mastering-sql/mastering-sql/course3_postgresql-tutorial/data/retail_db_json/departments [] ['part-r-00000-3db7cfae-3ad2-4fc7-88ff-afe0ec709f49']\n",
      "-- rename --  /Users/rajsingh/work/repos-new/mastering-sql/mastering-sql/course3_postgresql-tutorial/data/retail_db_json/order_items [] ['part-r-00000-6b83977e-3f20-404b-9b5f-29376ab1419e']\n",
      "-- rename --  /Users/rajsingh/work/repos-new/mastering-sql/mastering-sql/course3_postgresql-tutorial/data/retail_db_json/orders [] ['part-r-00000-990f5773-9005-49ba-b670-631286032674']\n",
      "-- rename --  /Users/rajsingh/work/repos-new/mastering-sql/mastering-sql/course3_postgresql-tutorial/data/retail_db_json/categories [] ['part-r-00000-ce1d8208-178d-48d3-bfb2-1a97d9c05094']\n",
      "-- rename --  /Users/rajsingh/work/repos-new/mastering-sql/mastering-sql/course3_postgresql-tutorial/data/hr [] ['hr_mysql.sql']\n",
      "-- rename --  /Users/rajsingh/work/repos-new/mastering-sql/mastering-sql/course3_postgresql-tutorial/data/retail_db ['customers', 'products', 'departments', 'order_items', 'orders', 'categories'] ['create_db_tables_pg.sql', 'create_db.sql', 'load_db_tables_pg.sql']\n",
      "-- rename --  /Users/rajsingh/work/repos-new/mastering-sql/mastering-sql/course3_postgresql-tutorial/data/retail_db/customers [] ['part-00000']\n",
      "-- rename --  /Users/rajsingh/work/repos-new/mastering-sql/mastering-sql/course3_postgresql-tutorial/data/retail_db/products [] ['part-00000']\n",
      "-- rename --  /Users/rajsingh/work/repos-new/mastering-sql/mastering-sql/course3_postgresql-tutorial/data/retail_db/departments [] ['part-00000']\n",
      "-- rename --  /Users/rajsingh/work/repos-new/mastering-sql/mastering-sql/course3_postgresql-tutorial/data/retail_db/order_items [] ['part-00000']\n",
      "-- rename --  /Users/rajsingh/work/repos-new/mastering-sql/mastering-sql/course3_postgresql-tutorial/data/retail_db/orders [] ['part-00000']\n",
      "-- rename --  /Users/rajsingh/work/repos-new/mastering-sql/mastering-sql/course3_postgresql-tutorial/data/retail_db/categories [] ['part-00000']\n",
      "-- rename --  /Users/rajsingh/work/repos-new/mastering-sql/mastering-sql/course3_postgresql-tutorial/data/sms_db [] ['users.csv']\n",
      "-- rename --  /Users/rajsingh/work/repos-new/mastering-sql/mastering-sql/course3_postgresql-tutorial/material ['05_partitioning_tables_and_indexes', 'bonus_overview_of_redshift', '4.writing_basic_sql_queries', '04_creating_tables_and_indexes', 'bonus_data_warehousing_concepts', '06_predefined_functions', '2.getting_started', 'x.Problem-solving-using-SQL', '8. writing_advanced_sql_queries', '3.dml_or_crud_operations', '08_query_performance_tuning'] ['bonus_sqlalchemy_crud.ipynb', 'README.md', '1.objective.ipynb', 'bonus_setup_exclusive_labs.ipynb', 'mastering_postgresql_exercises.ipynb']\n",
      "-- rename --  /Users/rajsingh/work/repos-new/mastering-sql/mastering-sql/course3_postgresql-tutorial/material/05_partitioning_tables_and_indexes [] ['12_sub_partitioning.ipynb', '07_managing_partitions_range.ipynb', '04_managing_partitions_list.ipynb', '03_list_partitioning.ipynb', '09_hash_partitioning.ipynb', '11_usage_scenarios.ipynb', '08_repartitioning_range.ipynb', '02_overview_of_partitioning.ipynb', '05_manipulating_data.ipynb', '06_range_partitioning.ipynb', '10_managing_partitions_hash.ipynb', '01_partitioning_tables_and_indexes.ipynb', '13_exercises_partitioning_tables.ipynb']\n",
      "-- rename --  /Users/rajsingh/work/repos-new/mastering-sql/mastering-sql/course3_postgresql-tutorial/material/bonus_overview_of_redshift [] ['04_accessing_redshift_publicly.ipynb', '06_using_ides_sql_workbench.ipynb', '07_using_jupyter_environment.ipynb', '08_data_loading_utilities.ipynb', '03_using_query_editor.ipynb', '05_connecting_using_psql.ipynb', '01_overview_of_redshift.ipynb', '02_setup_aws_redshift.ipynb']\n",
      "-- rename --  /Users/rajsingh/work/repos-new/mastering-sql/mastering-sql/course3_postgresql-tutorial/material/4.writing_basic_sql_queries [] ['01_writing_basic_sql_queries.ipynb', '13_exercises_basic_sql_queries.ipynb', '02_standard_transformations.ipynb', '07_filtering_data.ipynb', '11_sorting_data.ipynb', '04_define_problem_statement.ipynb', '06_selecting_or_projecting_data.ipynb', '08_joining_tables_inner.ipynb', '09_joining_tables_outer.ipynb', '12_solution_daily_product_revenue.ipynb', '03_overview_of_data_model.ipynb', '10_performing_aggregations.ipynb', '05_preparing_tables.ipynb']\n",
      "-- rename --  /Users/rajsingh/work/repos-new/mastering-sql/mastering-sql/course3_postgresql-tutorial/material/04_creating_tables_and_indexes [] ['02_data_definition_language.ipynb', '04_adding_or_modifying_columns.ipynb', '11_dropping_tables.ipynb', '08_indexes_for_constraints.ipynb', '03_overview_of_data_types.ipynb', '06_managing_constraints.ipynb', '07_indexes_on_tables.ipynb', '10_truncating_tables.ipynb', '12_exercises_managing_db_objects.ipynb', '01_creating_tables_and_indexes.ipynb', '05_different_types_of_constraints.ipynb', '09_overview_of_sequences.ipynb']\n",
      "-- rename --  /Users/rajsingh/work/repos-new/mastering-sql/mastering-sql/course3_postgresql-tutorial/material/bonus_data_warehousing_concepts [] ['04_overview_of_data_lake.ipynb', '05_key_data_warehouse_concepts.ipynb', '02_overview_of_oltp_applications.ipynb', '03_data_warehouse_architecture.ipynb', '01_data_warehousing_concepts.ipynb', '06_dimensional_modeling.ipynb']\n",
      "-- rename --  /Users/rajsingh/work/repos-new/mastering-sql/mastering-sql/course3_postgresql-tutorial/material/06_predefined_functions [] ['02_overview_of_predefined_functions.ipynb', '01_predefined_functions.ipynb', '04_date_manipulation_functions.ipynb', '06_data_type_conversion.ipynb', '03_string_manipulation_functions.ipynb', '07_handling_null_values.ipynb', '08_using_case_and_when.ipynb', '05_overview_of_numeric_functions.ipynb', '09_exercises_predefined_functions.ipynb']\n",
      "-- rename --  /Users/rajsingh/work/repos-new/mastering-sql/mastering-sql/course3_postgresql-tutorial/material/2.getting_started [] ['2.2.using_psql.ipynb', '2.1.getting_started.ipynb', '2.5.sql_workbench_and_postgres.ipynb', '2.8.loading_data_postgres_in_docker.ipynb', '2.7.data_loading_utilities.ipynb', '2.3.setup_postgres_using_docker.ipynb', '2.9_exercise_loading_data.ipynb', '2.4.setup_sql_workbench.ipynb', '2.1.connecting_to_database.ipynb', '2.6.sql_workbench_features.ipynb', 'user_data.csv']\n",
      "-- rename --  /Users/rajsingh/work/repos-new/mastering-sql/mastering-sql/course3_postgresql-tutorial/material/x.Problem-solving-using-SQL [] ['problems.ipynb']\n",
      "-- rename --  /Users/rajsingh/work/repos-new/mastering-sql/mastering-sql/course3_postgresql-tutorial/material/8. writing_advanced_sql_queries [] ['12_analytic_functions_windowing.ipynb', '16_exercises_analytic_functions.ipynb', '09_overview_of_analytic_functions.ipynb', '10_analytic_functions_aggregations.ipynb', '08_pivoting_rows_into_columns.ipynb', '11_cumulative_or_moving_aggregations.ipynb', '04_overview_of_sub_queries.ipynb', '8.1 overview_of_views.ipynb', '01_writing_advanced_sql_queries.ipynb', '13_analytic_functions_ranking.ipynb', '14_analytic_funcions_filtering.ipynb', '07_merging_or_upserting_data.ipynb', '06_advanced_dml_operations.ipynb', '05_create_table_as_select.ipynb', '15_ranking_and_filtering_recap.ipynb', '03_named_queries_using_with_clause.ipynb']\n",
      "-- rename --  /Users/rajsingh/work/repos-new/mastering-sql/mastering-sql/course3_postgresql-tutorial/material/3.dml_or_crud_operations [] ['3.6 deleting_data.ipynb', '3.2 crud_operations.ipynb', '3.0 normalization_principles.ipynb', '3.8 exercises_database_operations.ipynb', '3.0 dml_or_crud_operations.ipynb', '3.0 tables_as_relations.ipynb', '3.7 overview_of_transactions.ipynb', '3.3 creating_table.ipynb', '3.1 overview_of_database_operations.ipynb', '3.4 inserting_data.ipynb', '3.5 updating_data.ipynb']\n",
      "-- rename --  /Users/rajsingh/work/repos-new/mastering-sql/mastering-sql/course3_postgresql-tutorial/material/08_query_performance_tuning [] ['09_overview_of_query_hints.ipynb', '04_overview_of_cost_based_optimizer.ipynb', '08_writing_queries_partition_pruning.ipynb', '07_criteria_for_partitioning.ipynb', '05_performance_tuning_using_indexes.ipynb', '03_interpreting_explain_plans.ipynb', '02_preparing_database.ipynb', '01_query_performance_tuning.ipynb', '06_criteria_for_indexing.ipynb', '10_exercises_tuning_queries.ipynb']\n"
     ]
    }
   ],
   "source": [
    "for dirpath, dirnames, filenames in os.walk(url):\n",
    "    rename_folder(dirpath, dirnames, filenames)"
   ]
  },
  {
   "cell_type": "code",
   "execution_count": null,
   "metadata": {},
   "outputs": [],
   "source": []
  }
 ],
 "metadata": {
  "kernelspec": {
   "display_name": "Python 3",
   "language": "python",
   "name": "python3"
  },
  "language_info": {
   "codemirror_mode": {
    "name": "ipython",
    "version": 3
   },
   "file_extension": ".py",
   "mimetype": "text/x-python",
   "name": "python",
   "nbconvert_exporter": "python",
   "pygments_lexer": "ipython3",
   "version": "3.9.12"
  }
 },
 "nbformat": 4,
 "nbformat_minor": 2
}
