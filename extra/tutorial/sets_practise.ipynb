{
 "cells": [
  {
   "cell_type": "code",
   "execution_count": null,
   "metadata": {},
   "outputs": [],
   "source": [
    "#Python's `set` data structure supports various operations that make it easy to work with sets \n",
    "# (unordered collections of unique elements). Here's a breakdown of common set operations:\n",
    "\n",
    "### 1. **Union**\n",
    "#The union of two sets combines all elements from both sets (removing duplicates).\n",
    "'''\n",
    "- **Method**: `union()`\n",
    "- **Operator**: `|`\n",
    "'''\n",
    "\n",
    "set1 = {1, 2, 3}\n",
    "set2 = {3, 4, 5}\n",
    "\n",
    "# Using union method\n",
    "union_set = set1.union(set2)\n",
    "print(union_set)  # Output: {1, 2, 3, 4, 5}\n",
    "\n",
    "# Using | operator\n",
    "union_set = set1 | set2\n",
    "print(union_set)  # Output: {1, 2, 3, 4, 5}"
   ]
  },
  {
   "cell_type": "code",
   "execution_count": null,
   "metadata": {},
   "outputs": [],
   "source": [
    "### 2. **Intersection**\n",
    "'''\n",
    "The intersection returns elements common to both sets.\n",
    "\n",
    "- **Method**: `intersection()`\n",
    "- **Operator**: `&`\n",
    "'''\n",
    "\n",
    "# Using intersection method\n",
    "intersection_set = set1.intersection(set2)\n",
    "print(intersection_set)  # Output: {3}\n",
    "\n",
    "# Using & operator\n",
    "intersection_set = set1 & set2\n",
    "print(intersection_set)  # Output: {3}\n"
   ]
  },
  {
   "cell_type": "code",
   "execution_count": null,
   "metadata": {},
   "outputs": [],
   "source": [
    "### 3. **Difference**\n",
    "'''\n",
    "The difference between two sets returns elements that are in the first set but not in the second.\n",
    "- **Method**: `difference()`\n",
    "- **Operator**: `-`\n",
    "'''\n",
    "\n",
    "# Using difference method\n",
    "difference_set = set1.difference(set2)\n",
    "print(difference_set)  # Output: {1, 2}\n",
    "\n",
    "# Using - operator\n",
    "difference_set = set1 - set2\n",
    "print(difference_set)  # Output: {1, 2}"
   ]
  },
  {
   "cell_type": "code",
   "execution_count": null,
   "metadata": {},
   "outputs": [],
   "source": [
    "### 4. **Symmetric Difference**\n",
    "'''\n",
    "The symmetric difference returns elements that are in either of the sets, but not in both.\n",
    "\n",
    "- **Method**: `symmetric_difference()`\n",
    "- **Operator**: `^`\n",
    "'''\n",
    "\n",
    "# Using symmetric_difference method\n",
    "symmetric_diff = set1.symmetric_difference(set2)\n",
    "print(symmetric_diff)  # Output: {1, 2, 4, 5}\n",
    "\n",
    "# Using ^ operator\n",
    "symmetric_diff = set1 ^ set2\n",
    "print(symmetric_diff)  # Output: {1, 2, 4, 5}"
   ]
  },
  {
   "cell_type": "code",
   "execution_count": null,
   "metadata": {},
   "outputs": [],
   "source": [
    "### 5. **Subset**\n",
    "'''Checks if one set is a subset of another. A set `A` is a subset of `B` if all elements of `A` are in `B`.\n",
    "\n",
    "- **Method**: `issubset()`\n",
    "- **Operator**: `<=`\n",
    "'''\n",
    "\n",
    "set1 = {1, 2}\n",
    "set2 = {1, 2, 3}\n",
    "\n",
    "# Using issubset method\n",
    "is_subset = set1.issubset(set2)\n",
    "print(is_subset)  # Output: True\n",
    "\n",
    "# Using <= operator\n",
    "is_subset = set1 <= set2\n",
    "print(is_subset)  # Output: True"
   ]
  },
  {
   "cell_type": "code",
   "execution_count": null,
   "metadata": {},
   "outputs": [],
   "source": [
    "### 6. **Superset**\n",
    "'''Checks if one set is a superset of another. A set `A` is a superset of `B` if it contains all elements of `B`.\n",
    "\n",
    "- **Method**: `issuperset()`\n",
    "- **Operator**: `>=`\n",
    "'''\n",
    "# Using issuperset method\n",
    "is_superset = set2.issuperset(set1)\n",
    "print(is_superset)  # Output: True\n",
    "\n",
    "# Using >= operator\n",
    "is_superset = set2 >= set1\n",
    "print(is_superset)  # Output: True\n"
   ]
  },
  {
   "cell_type": "code",
   "execution_count": null,
   "metadata": {},
   "outputs": [],
   "source": [
    "### 7. **Disjoint Sets**\n",
    "'''Checks if two sets have no elements in common.\n",
    "\n",
    "- **Method**: `isdisjoint()`\n",
    "'''\n",
    "\n",
    "set1 = {1, 2, 3}\n",
    "set2 = {4, 5, 6}\n",
    "\n",
    "# Using isdisjoint method\n",
    "are_disjoint = set1.isdisjoint(set2)\n",
    "print(are_disjoint)  # Output: True"
   ]
  },
  {
   "cell_type": "code",
   "execution_count": null,
   "metadata": {},
   "outputs": [],
   "source": [
    "### 8. **Add/Remove Elements**\n",
    "'''- **Add element**: `add()`\n",
    "- **Remove element**: `remove()`, `discard()`\n",
    "- **Pop an element**: `pop()`\n",
    "'''\n",
    "\n",
    "# Adding an element\n",
    "set1 = {1, 2, 3}\n",
    "set1.add(4)\n",
    "print(set1)  # Output: {1, 2, 3, 4}\n",
    "\n",
    "# Removing an element\n",
    "set1.remove(2)  # Raises KeyError if element doesn't exist\n",
    "print(set1)  # Output: {1, 3, 4}\n",
    "\n",
    "# Discarding an element (no KeyError if element doesn't exist)\n",
    "set1.discard(5)\n",
    "print(set1)  # Output: {1, 3, 4}\n",
    "\n",
    "# Pop a random element\n",
    "set1.pop()\n",
    "print(set1)  # Output: {3, 4} (randomly pops an element)"
   ]
  },
  {
   "cell_type": "code",
   "execution_count": 12,
   "metadata": {},
   "outputs": [
    {
     "name": "stdout",
     "output_type": "stream",
     "text": [
      "True\n"
     ]
    }
   ],
   "source": [
    "### 9. **Clear a Set**\n",
    "#- **Method**: `clear()`\n",
    "  \n",
    "set1.clear()\n",
    "print(set1)  # Output: set()\n"
   ]
  }
 ],
 "metadata": {
  "kernelspec": {
   "display_name": "upgrad_env",
   "language": "python",
   "name": "python3"
  },
  "language_info": {
   "codemirror_mode": {
    "name": "ipython",
    "version": 3
   },
   "file_extension": ".py",
   "mimetype": "text/x-python",
   "name": "python",
   "nbconvert_exporter": "python",
   "pygments_lexer": "ipython3",
   "version": "3.9.6"
  }
 },
 "nbformat": 4,
 "nbformat_minor": 2
}
